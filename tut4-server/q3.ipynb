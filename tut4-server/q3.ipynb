{
 "cells": [
  {
   "cell_type": "code",
   "execution_count": 6,
   "metadata": {},
   "outputs": [],
   "source": [
    "import numpy as np \n",
    "from math import factorial"
   ]
  },
  {
   "cell_type": "code",
   "execution_count": 7,
   "metadata": {},
   "outputs": [],
   "source": [
    "fact = lambda x : factorial(int(x))"
   ]
  },
  {
   "cell_type": "code",
   "execution_count": 8,
   "metadata": {},
   "outputs": [],
   "source": [
    "F1 = lambda j1, j2, j3, m1, m2, m3 : np.sqrt(fact(j1+j2-j3)*fact(j3+j1-j2)*fact(j2+j3-j1)*(2*j3+1)/fact(j1+j2+j3+1))\n",
    "F2 = lambda j1, j2, j3, m1, m2, m3 : np.sqrt(fact(j3+m3)*fact(j3-m3)*fact(j2+m2)*fact(j2-m2)*fact(j1+m1)*fact(j1-m1))\n",
    "def F3(j1, j2, j3, m1, m2, m3):\n",
    "    smax = min(j1-m1, j2+m2, j1+j2-j3)\n",
    "    smin = abs(min(min(j3-j2+m1, j3-j1-m2), 0))\n",
    "    ans = 0\n",
    "    for s in np.arange(smin, smax+1):\n",
    "        ans += (-1)**s/(fact(j1-m1-s)*fact(j2+m2-s)*fact(j3-j2+m1+s)*fact(j3-j1-m2+s)*fact(j1+j2-j3-s)*fact(s))\n",
    "    return ans\n",
    "\n",
    "CG = lambda j1, j2, j3, m1, m2, m3 : int(not (m1+m2-m3))*F1(j1, j2, j3, m1, m2, m3)*F2(j1, j2, j3, m1, m2, m3)*F3(j1, j2, j3, m1, m2, m3) if (abs(m1)<=j1 and abs(m2)<=j2 and abs(m3)<=j3) else 0"
   ]
  },
  {
   "cell_type": "code",
   "execution_count": 9,
   "metadata": {},
   "outputs": [],
   "source": [
    "def tbme(oa, ob, oc, od, J, T):\n",
    "    At=1\n",
    "    na, nb, nc, nd = oa[0], ob[0], oc[0], od[0]\n",
    "    la, lb, lc, ld = oa[1], ob[1], oc[1], od[1]\n",
    "    ja, jb, jc, jd = oa[2], ob[2], oc[2], od[2]\n",
    "    if J not in np.intersect1d(np.arange(abs(ja-jb), ja+jb), np.arange(abs(jc-jd), jc+jd)) : raise Exception(\"Check J\") \n",
    "    delta_ab = 1 if oa==ob else 0 \n",
    "    delta_cd = 1 if oc==od else 0 \n",
    "    if (delta_ab or delta_cd) and (J+T)%2==0 : raise Exception(\"Check T\")\n",
    "    term1 = (-1)**(na+nb+nc+nd) * At / (2*(2*J+1))\n",
    "    term2 = np.sqrt((2*ja+1)*(2*jb+1)*(2*jc+1)*(2*jd+1) / ((1+delta_ab)*(1+delta_cd)) )\n",
    "    term3 = (-1)**(jb+jd+lb+ld) * CG(jb, ja, J, -0.5, 0.5, 0) * CG(jd, jc, J, -0.5, 0.5, 0) * (1 - (-1)**(la+lb+J+T))\n",
    "    term4 = CG(jb, ja, J, 0.5, 0.5, 1) * CG(jd, jc, J, 0.5, 0.5, 1) * (1 + (-1)**T)\n",
    "    return term1 * term2 * (term3 - term4)"
   ]
  },
  {
   "cell_type": "code",
   "execution_count": 10,
   "metadata": {},
   "outputs": [
    {
     "name": "stdout",
     "output_type": "stream",
     "text": [
      "1.4142135623730951\n"
     ]
    }
   ],
   "source": [
    "s1 = [0, 0, 1/2]\n",
    "s2 = [0, 1, 3/2] \n",
    "s3 = [0, 1, 1/2]\n",
    "print(tbme(s1, s1, s2, s2, 0, 1))"
   ]
  }
 ],
 "metadata": {
  "kernelspec": {
   "display_name": "Python 3",
   "language": "python",
   "name": "python3"
  },
  "language_info": {
   "codemirror_mode": {
    "name": "ipython",
    "version": 3
   },
   "file_extension": ".py",
   "mimetype": "text/x-python",
   "name": "python",
   "nbconvert_exporter": "python",
   "pygments_lexer": "ipython3",
   "version": "3.9.13"
  }
 },
 "nbformat": 4,
 "nbformat_minor": 2
}
