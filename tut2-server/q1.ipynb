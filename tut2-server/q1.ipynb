{
 "cells": [
  {
   "cell_type": "code",
   "execution_count": 20,
   "metadata": {},
   "outputs": [],
   "source": [
    "import numpy as np \n",
    "from matplotlib import pyplot as plt \n",
    "from tqdm import tqdm"
   ]
  },
  {
   "cell_type": "code",
   "execution_count": 23,
   "metadata": {},
   "outputs": [],
   "source": [
    "def runge_kutta(f, tf, h, v0):\n",
    "    N = int(tf/h)\n",
    "    v = np.zeros((N, v0.shape[0]))\n",
    "    v[0, :] = v0 \n",
    "    for i in range(N-1): \n",
    "        k1 = f(i*h, v[i, :])\n",
    "        k2 = f((i+1/2)*h, v[i, :] + h*k1/2)\n",
    "        k3 = f((i+1/2)*h, v[i, :] + h*k2/2)\n",
    "        k4 = f((i+1)*h, v[i, :] + h*k3)\n",
    "        v[i+1, :] = v[i, :] + h*(k1+2*(k2+k3)+k4)/6\n",
    "    return v "
   ]
  },
  {
   "cell_type": "code",
   "execution_count": 22,
   "metadata": {},
   "outputs": [],
   "source": [
    "Q = 79 # charge of gold nucleaus in e units \n",
    "q = 2 # charge of alpha particle in e units \n",
    "e2 = 1.44 # MeVfm\n",
    "mn = 939.5654133 # MeV/c**2\n",
    "mp = 938.2720813 # MeV/c**2 \n",
    "m_alpha = 2*(mn+mp)\n",
    "A = 197\n",
    "RT = 1.2*A**(1/3)\n",
    "E_alpha = 5 #MeV \n",
    "Valpha = np.sqrt(2*E_alpha/m_alpha) \n",
    "x0 = -100 #fm \n",
    "impact_parameter = np.arange(-200,200,5) #fm \n",
    "tf = 10000 #fm/c"
   ]
  },
  {
   "cell_type": "code",
   "execution_count": 14,
   "metadata": {},
   "outputs": [],
   "source": [
    "def rutherford(t, v):\n",
    "    r = lambda x, y : max(np.sqrt(x**2+y**2), RT) \n",
    "    vdot = np.zeros((4))\n",
    "    vdot[0] = v[1] \n",
    "    vdot[1] = (q*Q*e2*v[0])/(m_alpha*r(v[0], v[2])**3)\n",
    "    vdot[2] = v[3]\n",
    "    vdot[3] = (q*Q*e2*v[2])/(m_alpha*r(v[0], v[2])**3)\n",
    "    return vdot "
   ]
  },
  {
   "cell_type": "code",
   "execution_count": 36,
   "metadata": {},
   "outputs": [
    {
     "name": "stderr",
     "output_type": "stream",
     "text": [
      "100%|██████████| 40/40 [02:33<00:00,  3.84s/it]\n"
     ]
    }
   ],
   "source": [
    "v_b = []\n",
    "for y0 in tqdm(impact_parameter):\n",
    "    v0 = np.array([x0, Valpha, y0, 0])\n",
    "    v_b.append(runge_kutta(rutherford, 10000, 0.1, v0))"
   ]
  },
  {
   "cell_type": "code",
   "execution_count": 41,
   "metadata": {},
   "outputs": [
    {
     "data": {
      "image/png": "[encoded data removed]",
      "text/plain": [
       "<Figure size 640x480 with 1 Axes>"
      ]
     },
     "metadata": {},
     "output_type": "display_data"
    }
   ],
   "source": [
    "for v in v_b:\n",
    "    plt.scatter(v[:,0], v[:, 2], color=\"blue\", s=.5)\n"
   ]
  }
 ],
 "metadata": {
  "kernelspec": {
   "display_name": "Python 3",
   "language": "python",
   "name": "python3"
  },
  "language_info": {
   "codemirror_mode": {
    "name": "ipython",
    "version": 3
   },
   "file_extension": ".py",
   "mimetype": "text/x-python",
   "name": "python",
   "nbconvert_exporter": "python",
   "pygments_lexer": "ipython3",
   "version": "3.8.10"
  }
 },
 "nbformat": 4,
 "nbformat_minor": 2
}
